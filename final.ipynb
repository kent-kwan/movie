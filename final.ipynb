{
 "cells": [
  {
   "cell_type": "code",
   "execution_count": null,
   "metadata": {},
   "outputs": [],
   "source": [
    "import pandas as pd\n",
    "from scipy.spatial.distance import euclidean, cityblock, cosine, correlation\n",
    "from sklearn.preprocessing import StandardScaler\n",
    "import seaborn as sns\n",
    "import matplotlib.pyplot as plt"
   ]
  },
  {
   "cell_type": "markdown",
   "metadata": {},
   "source": [
    "EDA:"
   ]
  },
  {
   "cell_type": "code",
   "execution_count": null,
   "metadata": {},
   "outputs": [],
   "source": [
    "data=pd.read_csv(\"u.data\", sep='\\t', names=[\"user id\", \"item id\", \"rating\", \"timestamp\"])\n",
    "data=data.drop(columns=[\"timestamp\"])\n",
    "data"
   ]
  },
  {
   "cell_type": "code",
   "execution_count": null,
   "metadata": {},
   "outputs": [],
   "source": [
    "sns.distplot(data.groupby(\"item id\")['rating'].mean())"
   ]
  },
  {
   "cell_type": "code",
   "execution_count": null,
   "metadata": {},
   "outputs": [],
   "source": [
    "median=data.groupby(\"item id\")['rating'].mean().sort_values(ascending=False).median()\n",
    "median"
   ]
  },
  {
   "cell_type": "code",
   "execution_count": null,
   "metadata": {},
   "outputs": [],
   "source": [
    "info=pd.read_csv(\"u.info\", sep='|')\n",
    "info"
   ]
  },
  {
   "cell_type": "code",
   "execution_count": null,
   "metadata": {},
   "outputs": [],
   "source": [
    "item=pd.read_csv(\"u.item\", sep='|', names=[\"movie id\",\"movie title\", \"release date\", \"video release date\",\n",
    "            \"IMDb URL\",\"unknown\",\"Action\",\"Adventure\",\"Animation\",\"Children's\",\"Comedy\",\"Crime\",\"Documentary\",\"Drama\",\"Fantasy\",\n",
    "            \"Film-Noir\",\"Horror\",\"Musical\",\"Mystery\",\"Romance\",\"Sci-Fi\",\"Thriller\",\"War\",\"Western\"],encoding='latin-1')\n",
    "item"
   ]
  },
  {
   "cell_type": "code",
   "execution_count": null,
   "metadata": {},
   "outputs": [],
   "source": [
    "k=data.groupby(\"item id\")['rating'].mean()\n",
    "kind=[\"Action\",\"Adventure\",\"Animation\",\"Children's\",\"Comedy\",\"Crime\",\"Documentary\",\"Drama\",\"Fantasy\",\n",
    "            \"Film-Noir\",\"Horror\",\"Musical\",\"Mystery\",\"Romance\",\"Sci-Fi\",\"Thriller\",\"War\",\"Western\"]\n",
    "rating=[k[item[item[i]==1]['movie id']].mean() for i in kind]\n",
    "plt.figure(figsize=(15,5))\n",
    "sns.barplot(x=kind,y=rating)\n",
    "plt.show()"
   ]
  },
  {
   "cell_type": "code",
   "execution_count": null,
   "metadata": {},
   "outputs": [],
   "source": [
    "genre=pd.read_csv(\"u.genre\", sep='|', names=[\"Genre\",\"#\"])\n",
    "genre"
   ]
  },
  {
   "cell_type": "code",
   "execution_count": null,
   "metadata": {},
   "outputs": [],
   "source": [
    "user=pd.read_csv(\"u.user\", sep='|', names=[\"user id\",\"age\", \"gender\", \"occupation\",\"zip code\"])\n",
    "user"
   ]
  },
  {
   "cell_type": "code",
   "execution_count": null,
   "metadata": {},
   "outputs": [],
   "source": [
    "occupation=pd.read_csv(\"u.occupation\", sep='|')\n",
    "occupation"
   ]
  },
  {
   "cell_type": "code",
   "execution_count": null,
   "metadata": {},
   "outputs": [],
   "source": [
    "data[\"user id\"].value_counts()\n",
    "# each user has rated at least 20 movies, no need to clean"
   ]
  },
  {
   "cell_type": "code",
   "execution_count": null,
   "metadata": {},
   "outputs": [],
   "source": [
    "MoviePerUser=data[\"item id\"].value_counts()\n",
    "MoviePerUser"
   ]
  },
  {
   "cell_type": "code",
   "execution_count": null,
   "metadata": {},
   "outputs": [],
   "source": [
    "item = item.set_index('movie id')\n",
    "item"
   ]
  },
  {
   "cell_type": "code",
   "execution_count": null,
   "metadata": {},
   "outputs": [],
   "source": [
    "movie_genre = item.drop(columns=['movie title', 'release date', 'video release date', 'IMDb URL'])\n",
    "movie_genre"
   ]
  },
  {
   "cell_type": "code",
   "execution_count": null,
   "metadata": {},
   "outputs": [],
   "source": [
    "movie_name = item.drop(item.iloc[:,1:], axis=1)\n",
    "movie_name"
   ]
  },
  {
   "cell_type": "markdown",
   "metadata": {},
   "source": [
    "Content-based"
   ]
  },
  {
   "cell_type": "code",
   "execution_count": null,
   "metadata": {},
   "outputs": [],
   "source": [
    "def movie_recommender(distance_method, movie_id, N=1682):\n",
    "    df_distance = pd.DataFrame(data=movie_genre.index)\n",
    "    df_distance = df_distance[movie_genre.index != movie_id]\n",
    "    df_distance['distance'] = df_distance['movie id'].apply(lambda x: distance_method(movie_genre.loc[x],movie_genre.loc[movie_id]))\n",
    "    df_distance.sort_values(by='distance',inplace=True)\n",
    "    return(df_distance.head(N))"
   ]
  },
  {
   "cell_type": "code",
   "execution_count": null,
   "metadata": {},
   "outputs": [],
   "source": [
    "df_distance1=movie_recommender(euclidean, 1681)\n",
    "df_distance1"
   ]
  },
  {
   "cell_type": "code",
   "execution_count": null,
   "metadata": {},
   "outputs": [],
   "source": [
    "closestdis1=df_distance1[df_distance1['distance']==0]['movie id']"
   ]
  },
  {
   "cell_type": "code",
   "execution_count": null,
   "metadata": {},
   "outputs": [],
   "source": [
    "movie_genre.loc[closestdis1,:]"
   ]
  },
  {
   "cell_type": "code",
   "execution_count": null,
   "metadata": {},
   "outputs": [],
   "source": [
    "neardis1=df_distance1[df_distance1['distance']!=1]['movie id']\n",
    "movie_genre.loc[neardis1,:]"
   ]
  },
  {
   "cell_type": "code",
   "execution_count": null,
   "metadata": {},
   "outputs": [],
   "source": [
    "df_distance2=movie_recommender(cosine, 1681)\n",
    "df_distance2"
   ]
  },
  {
   "cell_type": "code",
   "execution_count": null,
   "metadata": {},
   "outputs": [],
   "source": [
    "closestdis2=df_distance2[df_distance2['distance']==0]['movie id']"
   ]
  },
  {
   "cell_type": "code",
   "execution_count": null,
   "metadata": {},
   "outputs": [],
   "source": [
    "movie_genre.loc[closestdis2,:]"
   ]
  },
  {
   "cell_type": "code",
   "execution_count": null,
   "metadata": {},
   "outputs": [],
   "source": [
    "neardis2=df_distance2[df_distance2['distance']!=1]['movie id']\n",
    "movie_genre.loc[neardis2,:]"
   ]
  },
  {
   "cell_type": "code",
   "execution_count": null,
   "metadata": {},
   "outputs": [],
   "source": [
    "df_distance3=movie_recommender(correlation, 1681)\n",
    "df_distance3"
   ]
  },
  {
   "cell_type": "code",
   "execution_count": null,
   "metadata": {},
   "outputs": [],
   "source": [
    "closestdis3=df_distance3[df_distance3['distance']==0]['movie id']"
   ]
  },
  {
   "cell_type": "code",
   "execution_count": null,
   "metadata": {},
   "outputs": [],
   "source": [
    "movie_genre.loc[closestdis3,:]"
   ]
  },
  {
   "cell_type": "code",
   "execution_count": null,
   "metadata": {},
   "outputs": [],
   "source": [
    "neardis3=df_distance3[df_distance3['distance']!=1]['movie id']\n",
    "movie_genre.loc[neardis3,:].iloc[250:261]"
   ]
  },
  {
   "cell_type": "code",
   "execution_count": null,
   "metadata": {},
   "outputs": [],
   "source": [
    "df_distance2.reset_index(inplace=True)\n",
    "df_distance2"
   ]
  },
  {
   "cell_type": "code",
   "execution_count": null,
   "metadata": {},
   "outputs": [],
   "source": [
    "cnt=0\n",
    "result=[]\n",
    "for i in range(len(df_distance2['distance'])-1):\n",
    "    if df_distance2['distance'][i+1]==df_distance2['distance'][i]:\n",
    "        result.append(cnt)\n",
    "    else:\n",
    "        cnt+=1\n",
    "        result.append(cnt)\n",
    "result.append(cnt)\n",
    "result"
   ]
  },
  {
   "cell_type": "code",
   "execution_count": null,
   "metadata": {},
   "outputs": [],
   "source": [
    "df_distance3.reset_index(inplace=True)"
   ]
  },
  {
   "cell_type": "code",
   "execution_count": null,
   "metadata": {},
   "outputs": [],
   "source": [
    "cnt=0\n",
    "result2=[]\n",
    "for i in range(len(df_distance3['distance'])-1):\n",
    "    if df_distance3['distance'][i+1]==df_distance3['distance'][i]:\n",
    "        result2.append(cnt)\n",
    "    else:\n",
    "        cnt+=1\n",
    "        result2.append(cnt)\n",
    "result2.append(cnt)\n",
    "result2"
   ]
  },
  {
   "cell_type": "code",
   "execution_count": null,
   "metadata": {},
   "outputs": [],
   "source": [
    "df_distance2['result']=result"
   ]
  },
  {
   "cell_type": "code",
   "execution_count": null,
   "metadata": {},
   "outputs": [],
   "source": [
    "df_distance2['result2']=result2\n",
    "df_distance2"
   ]
  },
  {
   "cell_type": "code",
   "execution_count": null,
   "metadata": {},
   "outputs": [],
   "source": [
    "df_distance2['result']!=df_distance2['result2']"
   ]
  },
  {
   "cell_type": "code",
   "execution_count": null,
   "metadata": {},
   "outputs": [],
   "source": [
    "movie_recommender(correlation, 1)[:5]"
   ]
  },
  {
   "cell_type": "markdown",
   "metadata": {},
   "source": [
    "collaborative user-user"
   ]
  },
  {
   "cell_type": "code",
   "execution_count": null,
   "metadata": {},
   "outputs": [],
   "source": [
    "sum=0\n",
    "for i in range(4):\n",
    "    ratenum=MoviePerUser[MoviePerUser==i].sum()\n",
    "    sum+=ratenum\n",
    "    print (\"rate by {} user(s): {} movies\".format(i,ratenum))\n",
    "print(sum)"
   ]
  },
  {
   "cell_type": "code",
   "execution_count": null,
   "metadata": {},
   "outputs": [],
   "source": [
    "data = data[data[\"item id\"].isin(MoviePerUser[MoviePerUser>3].index)]\n",
    "data\n",
    "# only keep movies have been rated by more than 5 users"
   ]
  },
  {
   "cell_type": "code",
   "execution_count": null,
   "metadata": {},
   "outputs": [],
   "source": [
    "# create the user-item-rating matrix\n",
    "UserMovieRatingMatrix=pd.pivot_table(data, values='rating', index=['user id'], columns=['item id'])\n",
    "UserMovieRatingMatrix.head()"
   ]
  },
  {
   "cell_type": "code",
   "execution_count": null,
   "metadata": {},
   "outputs": [],
   "source": [
    "from scipy.spatial.distance import hamming \n",
    "# lets write a function to compute k nearest neighbours of active user\n",
    "\n",
    "def nearestneighbours(user,K):\n",
    "    # create a user df that contains all users except active user\n",
    "    allUsers = pd.DataFrame(UserMovieRatingMatrix.index)\n",
    "    allUsers = allUsers[allUsers[\"user id\"]!=user]\n",
    "    # Add a column to this df which contains distance of active user to each user\n",
    "    allUsers[\"distance\"] = allUsers[\"user id\"].apply(lambda x: hamming(UserMovieRatingMatrix.loc[user],UserMovieRatingMatrix.loc[x]))\n",
    "    KnearestUsers = allUsers.sort_values([\"distance\"],ascending=True)[\"user id\"][:K]\n",
    "    return KnearestUsers\n"
   ]
  },
  {
   "cell_type": "code",
   "execution_count": null,
   "metadata": {},
   "outputs": [],
   "source": [
    "nearestneighbours(5,2) #allUsers.sort_values([\"distance\"],ascending=True)"
   ]
  },
  {
   "cell_type": "code",
   "execution_count": null,
   "metadata": {},
   "outputs": [],
   "source": [
    "import numpy as np\n",
    "def topN(user, N=3, K=10):\n",
    "    KnearestUsers = nearestneighbours(user,K)\n",
    "    # get the ratings given by nearest neighbours\n",
    "    NNRatings = UserMovieRatingMatrix[UserMovieRatingMatrix.index.isin(KnearestUsers)]\n",
    "    # Find the average rating of each movie rated by the k nearest neighbours\n",
    "    avgRating = NNRatings.apply(np.nanmean).dropna()\n",
    "    # drop the movies already watched by active user\n",
    "    MoviesWatched = UserMovieRatingMatrix.loc[user].dropna().index\n",
    "    avgRating = avgRating[~avgRating.index.isin(MoviesWatched)] # ~ means NOT\n",
    "    topMovies = avgRating.sort_values(ascending=False).index[:N]\n",
    "    for index in topMovies:\n",
    "        ans= print(\"Movie Recommended: \", item.at[index,\"movie title\"])\n",
    "    return ans\n"
   ]
  },
  {
   "cell_type": "code",
   "execution_count": null,
   "metadata": {},
   "outputs": [],
   "source": [
    "topN(3, N=5, K=10)"
   ]
  },
  {
   "cell_type": "markdown",
   "metadata": {},
   "source": [
    "collaborative item-item"
   ]
  },
  {
   "cell_type": "code",
   "execution_count": null,
   "metadata": {},
   "outputs": [],
   "source": [
    "sum=0\n",
    "for i in range(4):\n",
    "    ratenum=MoviePerUser[MoviePerUser==i].sum()\n",
    "    sum+=ratenum\n",
    "    print (\"rate by {} user(s): {} movies\".format(i,ratenum))\n",
    "print(sum)"
   ]
  },
  {
   "cell_type": "code",
   "execution_count": null,
   "metadata": {},
   "outputs": [],
   "source": [
    "data = data[data[\"item id\"].isin(MoviePerUser[MoviePerUser>3].index)]\n",
    "data\n",
    "# only keep movies have been rated by more than 5 users"
   ]
  },
  {
   "cell_type": "code",
   "execution_count": null,
   "metadata": {},
   "outputs": [],
   "source": [
    "# create the user-item-rating matrix\n",
    "ItemMovieRatingMatrix=pd.pivot_table(data, values='rating', index=['item id'], columns=['user id'])\n",
    "ItemMovieRatingMatrix.head()"
   ]
  },
  {
   "cell_type": "code",
   "execution_count": null,
   "metadata": {},
   "outputs": [],
   "source": [
    "from scipy.spatial.distance import hamming \n",
    "# lets write a function to compute k nearest neighbours of active user\n",
    "\n",
    "def nearestneighbours(item,K):\n",
    "    # create a user df that contains all users except active user\n",
    "    allItems = pd.DataFrame(ItemMovieRatingMatrix.index)\n",
    "    allItems = allItems[allItems[\"item id\"]!=item]\n",
    "    # Add a column to this df which contains distance of active user to each user\n",
    "    allItems[\"distance\"] = allItems[\"item id\"].apply(lambda x: hamming(ItemMovieRatingMatrix.loc[item],ItemMovieRatingMatrix.loc[x]))\n",
    "    KnearestUsers = allItems.sort_values([\"distance\"],ascending=True)[\"item id\"][:K]\n",
    "    return KnearestUsers\n"
   ]
  },
  {
   "cell_type": "code",
   "execution_count": null,
   "metadata": {},
   "outputs": [],
   "source": [
    "import numpy as np\n",
    "def topN(item, N=3, K=10):\n",
    "    KnearestUsers = nearestneighbours(item,K)\n",
    "    # get the ratings given by nearest neighbours\n",
    "    NNRatings = ItemMovieRatingMatrix[ItemMovieRatingMatrix.index.isin(KnearestUsers)]\n",
    "    # Find the average rating of each movie rated by the k nearest neighbours\n",
    "    avgRating = NNRatings.apply(np.nanmean).dropna()\n",
    "    # drop the movies already watched by active user\n",
    "    Itemrated = ItemMovieRatingMatrix.loc[item].dropna().index\n",
    "    avgRating = avgRating[~avgRating.index.isin(Itemrated)] # ~ means NOT\n",
    "    topMovies = avgRating.sort_values(ascending=False).index[:N]\n",
    "    for index in topMovies:\n",
    "        ans= print(\"Movie Recommended: \", Item.at[index,\"movie title\"])\n",
    "    return ans\n"
   ]
  },
  {
   "cell_type": "code",
   "execution_count": null,
   "metadata": {},
   "outputs": [],
   "source": [
    "topN(3, N=5, K=10)"
   ]
  },
  {
   "cell_type": "markdown",
   "metadata": {},
   "source": [
    "Matrix factorization"
   ]
  },
  {
   "cell_type": "code",
   "execution_count": null,
   "metadata": {},
   "outputs": [],
   "source": [
    "UserMovieRatingMatrix=pd.pivot_table(data, values='rating', index=['user id'], columns=['item id'])\n",
    "UserMovieRatingMatrix"
   ]
  },
  {
   "cell_type": "code",
   "execution_count": null,
   "metadata": {},
   "outputs": [],
   "source": [
    "def SGD(data):\n",
    "    '''Learn the vectors p_u and q_i with SGD.\n",
    "       data is a dataset containing all ratings + some useful info (e.g. number\n",
    "       of items/users).\n",
    "    '''\n",
    "\n",
    "    n_factors = 19  # number of factors\n",
    "    alpha = .01  # learning rate\n",
    "    n_epochs = 10  # number of iteration of the SGD procedure\n",
    "\n",
    "    # Randomly initialize the user and item factors.\n",
    "    p = np.random.normal(0, .1, (943, n_factors))\n",
    "    q = np.random.normal(0, .1, (1682, n_factors))\n",
    "\n",
    "    # Optimization procedure\n",
    "    for _ in range(n_epochs):\n",
    "        for u in range(943):\n",
    "            for i in range(1682):\n",
    "                if np.isnan(data.iloc[u,i])==False:\n",
    "                    err = data.iloc[u,i] - np.dot(p[u], q[i])\n",
    "                    # Update vectors p_u and q_i\n",
    "                    p[u] += alpha * err * q[i]\n",
    "                    q[i] += alpha * err * p[u]\n",
    "    return p,q"
   ]
  },
  {
   "cell_type": "code",
   "execution_count": null,
   "metadata": {},
   "outputs": [],
   "source": [
    "p,q=SGD(UserMovieRatingMatrix)"
   ]
  },
  {
   "cell_type": "code",
   "execution_count": null,
   "metadata": {},
   "outputs": [],
   "source": [
    "p"
   ]
  },
  {
   "cell_type": "code",
   "execution_count": null,
   "metadata": {},
   "outputs": [],
   "source": [
    "q"
   ]
  },
  {
   "cell_type": "code",
   "execution_count": null,
   "metadata": {},
   "outputs": [],
   "source": [
    "cnt=0\n",
    "sm=0\n",
    "for i in range(943):\n",
    "    for j in range(1682):\n",
    "        if np.isnan(UserMovieRatingMatrix.iloc[i,j])==False:\n",
    "            sm+=(UserMovieRatingMatrix.iloc[i,j]-np.dot(p[i],q[j]))**2\n",
    "            cnt+=1\n",
    "accuracy=(sm/cnt)**(.5)\n",
    "accuracy"
   ]
  },
  {
   "cell_type": "code",
   "execution_count": null,
   "metadata": {},
   "outputs": [],
   "source": [
    "p[0]"
   ]
  },
  {
   "cell_type": "code",
   "execution_count": null,
   "metadata": {},
   "outputs": [],
   "source": [
    "predictedrating=np.matmul(p,q.transpose())\n",
    "predictedrating"
   ]
  },
  {
   "cell_type": "code",
   "execution_count": null,
   "metadata": {},
   "outputs": [],
   "source": [
    "predictedrating[940,0]"
   ]
  },
  {
   "cell_type": "code",
   "execution_count": null,
   "metadata": {},
   "outputs": [],
   "source": [
    "UserMovieRatingMatrix"
   ]
  }
 ],
 "metadata": {
  "language_info": {
   "name": "python"
  },
  "orig_nbformat": 4
 },
 "nbformat": 4,
 "nbformat_minor": 2
}
